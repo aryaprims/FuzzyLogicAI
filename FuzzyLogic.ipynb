{
  "nbformat": 4,
  "nbformat_minor": 0,
  "metadata": {
    "colab": {
      "name": "FuzzyLogic",
      "provenance": [],
      "collapsed_sections": []
    },
    "kernelspec": {
      "name": "python3",
      "display_name": "Python 3"
    }
  },
  "cells": [
    {
      "cell_type": "code",
      "metadata": {
        "id": "ZDHhFjvylF4u"
      },
      "source": [
        "from google.colab import files\n",
        "import pandas\n",
        "import numpy\n",
        "import io\n",
        "import random\n",
        "import matplotlib.pyplot as plt"
      ],
      "execution_count": null,
      "outputs": []
    },
    {
      "cell_type": "markdown",
      "metadata": {
        "id": "cHF_x-pmf0Hr"
      },
      "source": [
        "# Membaca File EXCEL"
      ]
    },
    {
      "cell_type": "code",
      "metadata": {
        "id": "Ey5P7YlJlqCO",
        "colab": {
          "resources": {
            "http://localhost:8080/nbextensions/google.colab/files.js": {
              "data": "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",
              "ok": true,
              "headers": [
                [
                  "content-type",
                  "application/javascript"
                ]
              ],
              "status": 200,
              "status_text": ""
            }
          },
          "base_uri": "https://localhost:8080/",
          "height": 1000
        },
        "outputId": "0c6217b7-cf65-4d79-c084-9bd267d44e30"
      },
      "source": [
        "# Membaca file excel\n",
        "uploaded = files.upload()\n",
        "dataframe = pandas.read_excel(io.BytesIO(uploaded['Mahasiswa.xls']))\n",
        "data = []\n",
        "\n",
        "for i in range(len(dataframe)):\n",
        "  data.append([dataframe['Id'][i],dataframe['Penghasilan'][i],dataframe['Penghasilan'][i]-dataframe['Pengeluaran'][i]])\n",
        "data\n"
      ],
      "execution_count": null,
      "outputs": [
        {
          "output_type": "display_data",
          "data": {
            "text/html": [
              "\n",
              "     <input type=\"file\" id=\"files-aaf76c0f-7265-401f-9522-26f54d304558\" name=\"files[]\" multiple disabled\n",
              "        style=\"border:none\" />\n",
              "     <output id=\"result-aaf76c0f-7265-401f-9522-26f54d304558\">\n",
              "      Upload widget is only available when the cell has been executed in the\n",
              "      current browser session. Please rerun this cell to enable.\n",
              "      </output>\n",
              "      <script src=\"/nbextensions/google.colab/files.js\"></script> "
            ],
            "text/plain": [
              "<IPython.core.display.HTML object>"
            ]
          },
          "metadata": {
            "tags": []
          }
        },
        {
          "output_type": "stream",
          "text": [
            "Saving Mahasiswa.xls to Mahasiswa.xls\n"
          ],
          "name": "stdout"
        },
        {
          "output_type": "execute_result",
          "data": {
            "text/plain": [
              "[[1, 18.76, 9.080000000000002],\n",
              " [2, 8.35, 3.83],\n",
              " [3, 17.03, 6.920000000000002],\n",
              " [4, 8.23, -1.0199999999999996],\n",
              " [5, 16.89, 9.9],\n",
              " [6, 15.19, 7.989999999999999],\n",
              " [7, 9.03, -0.3200000000000003],\n",
              " [8, 17.99, 10.889999999999999],\n",
              " [9, 17.09, 6.550000000000001],\n",
              " [10, 18.43, 10.69],\n",
              " [11, 5.78, -0.8799999999999999],\n",
              " [12, 14.29, 6.229999999999999],\n",
              " [13, 5.55, -0.7999999999999998],\n",
              " [14, 13.06, 4.24],\n",
              " [15, 17.69, 9.520000000000001],\n",
              " [16, 12.39, 2.610000000000001],\n",
              " [17, 16.6, 6.820000000000002],\n",
              " [18, 15.57, 5.890000000000001],\n",
              " [19, 9.96, 5.48],\n",
              " [20, 19.62, 11.340000000000002],\n",
              " [21, 15.29, 5.399999999999999],\n",
              " [22, 18.71, 9.25],\n",
              " [23, 14.42, 5.93],\n",
              " [24, 19.27, 9.059999999999999],\n",
              " [25, 6.48, -1.3699999999999992],\n",
              " [26, 14.0, 4.539999999999999],\n",
              " [27, 16.32, 8.9],\n",
              " [28, 18.03, 11.260000000000002],\n",
              " [29, 17.58, 7.369999999999997],\n",
              " [30, 18.47, 9.87],\n",
              " [31, 18.7, 9.129999999999999],\n",
              " [32, 16.54, 8.26],\n",
              " [33, 7.03, -3.079999999999999],\n",
              " [34, 17.81, 11.25],\n",
              " [35, 17.02, 9.489999999999998],\n",
              " [36, 13.92, 6.72],\n",
              " [37, 13.52, 4.059999999999999],\n",
              " [38, 9.94, -0.8800000000000008],\n",
              " [39, 8.02, 3.369999999999999],\n",
              " [40, 16.32, 6.540000000000001],\n",
              " [41, 4.62, -2.26],\n",
              " [42, 14.06, 3.630000000000001],\n",
              " [43, 14.03, 4.029999999999999],\n",
              " [44, 17.37, 7.690000000000001],\n",
              " [45, 16.97, 7.509999999999998],\n",
              " [46, 9.58, -0.4599999999999991],\n",
              " [47, 9.63, -0.14999999999999858],\n",
              " [48, 9.02, 5.26],\n",
              " [49, 9.52, -1.4100000000000001],\n",
              " [50, 9.31, -1.9799999999999986],\n",
              " [51, 15.77, 8.35],\n",
              " [52, 9.1, -0.47000000000000064],\n",
              " [53, 14.75, 7.44],\n",
              " [54, 16.22, 8.159999999999998],\n",
              " [55, 16.29, 7.149999999999999],\n",
              " [56, 13.81, 4.5600000000000005],\n",
              " [57, 17.87, 7.870000000000001],\n",
              " [58, 18.87, 8.23],\n",
              " [59, 8.2, 4.6499999999999995],\n",
              " [60, 9.32, 4.16],\n",
              " [61, 9.26, 5.35],\n",
              " [62, 13.31, 2.99],\n",
              " [63, 9.29, 0.03999999999999915],\n",
              " [64, 18.28, 8.280000000000001],\n",
              " [65, 13.11, 2.789999999999999],\n",
              " [66, 9.63, -0.14999999999999858],\n",
              " [67, 13.67, 6.57],\n",
              " [68, 14.34, 5.42],\n",
              " [69, 9.86, -0.5700000000000003],\n",
              " [70, 17.68, 10.05],\n",
              " [71, 14.97, 7.23],\n",
              " [72, 9.71, 4.900000000000001],\n",
              " [73, 15.76, 7.699999999999999],\n",
              " [74, 8.52, 4.539999999999999],\n",
              " [75, 5.09, -2.4400000000000004],\n",
              " [76, 12.17, 4.97],\n",
              " [77, 16.52, 7.809999999999999],\n",
              " [78, 15.95, 8.419999999999998],\n",
              " [79, 8.52, -1.8000000000000007],\n",
              " [80, 15.92, 8.61],\n",
              " [81, 9.18, -0.28000000000000114],\n",
              " [82, 17.58, 7.039999999999999],\n",
              " [83, 17.88, 7.239999999999998],\n",
              " [84, 14.86, 6.26],\n",
              " [85, 14.93, 6.65],\n",
              " [86, 14.7, 6.1],\n",
              " [87, 18.19, 10.560000000000002],\n",
              " [88, 16.08, 8.229999999999999],\n",
              " [89, 15.44, 7.16],\n",
              " [90, 19.69, 11.63],\n",
              " [91, 15.58, 8.27],\n",
              " [92, 19.23, 11.06],\n",
              " [93, 9.47, 4.630000000000001],\n",
              " [94, 9.07, -1.1400000000000006],\n",
              " [95, 16.9, 9.479999999999999],\n",
              " [96, 17.31, 7.309999999999999],\n",
              " [97, 18.85, 9.070000000000002],\n",
              " [98, 14.52, 4.199999999999999],\n",
              " [99, 9.83, -0.8100000000000005],\n",
              " [100, 7.84, 4.4]]"
            ]
          },
          "metadata": {
            "tags": []
          },
          "execution_count": 6
        }
      ]
    },
    {
      "cell_type": "markdown",
      "metadata": {
        "id": "aI_mfwJ0hjyL"
      },
      "source": [
        "# Fuzzifikasi"
      ]
    },
    {
      "cell_type": "code",
      "metadata": {
        "id": "jsDfTuDDZZKC"
      },
      "source": [
        "#Membership\n",
        "\n",
        "#Penghasilan\n",
        "def hasil_low(x):\n",
        "  if x <= 5:\n",
        "    return 1\n",
        "  elif x > 10:\n",
        "    return 0\n",
        "  else:\n",
        "    return (10 - x) / (10 - 5)\n",
        "\n",
        "def hasil_high(x):\n",
        "  if x <= 15:\n",
        "    return 0\n",
        "  elif x > 16:\n",
        "    return 1\n",
        "  else:\n",
        "   return (x - 15) / (16 - 15)\n",
        "\n",
        "def hasil_avg(x):\n",
        "  if x <= 5 or x > 16:\n",
        "    return 0\n",
        "  elif x > 5 and x <= 11:\n",
        "    return (x - 5) / (11 - 5)\n",
        "  elif x > 11 and x <= 15.5:\n",
        "    return 1\n",
        "  elif x > 15.5 and x <= 16:\n",
        "    return (16 - x) / (16 - 15.5)\n",
        "\n",
        "#Sisa Penghasilan\n",
        "def sisa_low(x):\n",
        "  if x <= 0:\n",
        "    return 1\n",
        "  elif x > 3:\n",
        "    return 0\n",
        "  else:\n",
        "    return (3 - x) / (3 - 0)\n",
        "\n",
        "def sisa_high(x):\n",
        "  if x <= 5:\n",
        "    return 0\n",
        "  elif x > 9:\n",
        "    return 1\n",
        "  else:\n",
        "   return (x - 5) / (9 - 5)\n",
        "\n",
        "def sisa_avg(x):\n",
        "  if x <= 0 or x > 9:\n",
        "    return 0\n",
        "  elif x > 0 and x <= 4:\n",
        "    return (x - 0) / (4 - 0)\n",
        "  elif x > 4 and x <= 6:\n",
        "    return 1\n",
        "  elif x > 6 and x <= 9:\n",
        "    return (9 - x) / (9 - 6)\n"
      ],
      "execution_count": null,
      "outputs": []
    },
    {
      "cell_type": "code",
      "metadata": {
        "id": "6aZhqZqNvCdJ",
        "colab": {
          "base_uri": "https://localhost:8080/",
          "height": 282
        },
        "outputId": "57b6fbfe-8471-4359-aa3c-a218de541876"
      },
      "source": [
        "plotGrafik = numpy.arange(0, 20, 0.1)\n",
        "plt.plot(plotGrafik,[hasil_high(x) for x in plotGrafik], label='Tinggi')\n",
        "plt.plot(plotGrafik,[hasil_low(x) for x in plotGrafik], label='Rendah')\n",
        "plt.plot(plotGrafik,[hasil_avg(x) for x in plotGrafik], label='Sedang')\n",
        "plt.legend()"
      ],
      "execution_count": null,
      "outputs": [
        {
          "output_type": "execute_result",
          "data": {
            "text/plain": [
              "<matplotlib.legend.Legend at 0x7f07c0029390>"
            ]
          },
          "metadata": {
            "tags": []
          },
          "execution_count": 4
        },
        {
          "output_type": "display_data",
          "data": {
            "image/png": "[encoded data removed]",
            "text/plain": [
              "<Figure size 432x288 with 1 Axes>"
            ]
          },
          "metadata": {
            "tags": [],
            "needs_background": "light"
          }
        }
      ]
    },
    {
      "cell_type": "code",
      "metadata": {
        "id": "6wZx3n8r6y3i"
      },
      "source": [
        ""
      ],
      "execution_count": null,
      "outputs": []
    },
    {
      "cell_type": "code",
      "metadata": {
        "id": "tA2zfWbn4X2H",
        "colab": {
          "base_uri": "https://localhost:8080/",
          "height": 282
        },
        "outputId": "9f451ee3-72ea-4f2a-b3db-6d2bb9bf4e8b"
      },
      "source": [
        "plotGrafik = numpy.arange(-4, 11, 0.1)\n",
        "plt.plot(plotGrafik,[sisa_high(x) for x in plotGrafik], label='Tinggi')\n",
        "plt.plot(plotGrafik,[sisa_low(x) for x in plotGrafik], label='Rendah')\n",
        "plt.plot(plotGrafik,[sisa_avg(x) for x in plotGrafik], label='Sedang')\n",
        "plt.legend()"
      ],
      "execution_count": null,
      "outputs": [
        {
          "output_type": "execute_result",
          "data": {
            "text/plain": [
              "<matplotlib.legend.Legend at 0x7f07c00dfe10>"
            ]
          },
          "metadata": {
            "tags": []
          },
          "execution_count": 5
        },
        {
          "output_type": "display_data",
          "data": {
            "image/png": "[encoded data removed]",
            "text/plain": [
              "<Figure size 432x288 with 1 Axes>"
            ]
          },
          "metadata": {
            "tags": [],
            "needs_background": "light"
          }
        }
      ]
    },
    {
      "cell_type": "code",
      "metadata": {
        "id": "_FiFnq-F8uAB"
      },
      "source": [
        "penghasilan = []\n",
        "sisa = []\n",
        "\n",
        "for i in range(len(data)):\n",
        "  penghasilan.append([data[i][0], hasil_high(data[i][1]), hasil_low(data[i][1]), hasil_avg(data[i][1])])\n",
        "  sisa.append([data[i][0], sisa_high(data[i][2]), sisa_low(data[i][2]), sisa_avg(data[i][2])])\n",
        "\n",
        "#end"
      ],
      "execution_count": null,
      "outputs": []
    },
    {
      "cell_type": "markdown",
      "metadata": {
        "id": "gUZ9o7LOVK9c"
      },
      "source": [
        ""
      ]
    },
    {
      "cell_type": "markdown",
      "metadata": {
        "id": "OTKKCpQthoeM"
      },
      "source": [
        "# INFERENSI"
      ]
    },
    {
      "cell_type": "markdown",
      "metadata": {
        "id": "Dyom6gB3UtiV"
      },
      "source": [
        "| PENGHASILAN | SISA | STATUS |\n",
        "| --- | --- | --- |\n",
        "| TINGGI | TINGGI | DITOLAK  |\n",
        "| TINGGI | SEDANG | DITOLAK |\n",
        "| TINGGI | RENDAH | DITOLAK |\n",
        "| SEDANG | TINGGI | DIPERTIMBANGKAN |\n",
        "| SEDANG | SEDANG | DIPERTIMBANGKAN |\n",
        "| SEDANG | RENDAH | DITERIMA |\n",
        "| RENDAH | TINGGI | DITERIMA |\n",
        "| RENDAH | SEDANG | DITERIMA |\n",
        "| RENDAH | RENDAH | DITERIMA |"
      ]
    },
    {
      "cell_type": "code",
      "metadata": {
        "id": "r7oonbMTUBob",
        "colab": {
          "base_uri": "https://localhost:8080/"
        },
        "outputId": "1ca7c86a-990b-4249-dbe0-86a1c7d113f3"
      },
      "source": [
        "nInference = []\n",
        "for i in range(len(data)):\n",
        "  listDiterima = []\n",
        "  listDipertimbangkan = []\n",
        "  listDitolak = []\n",
        "\n",
        "  listDiterima.append(min(penghasilan[i][3], sisa[i][2]))\n",
        "  listDiterima.append(min(penghasilan[i][2], sisa[i][1]))\n",
        "  listDiterima.append(min(penghasilan[i][2], sisa[i][3]))\n",
        "  listDiterima.append(min(penghasilan[i][2], sisa[i][2]))\n",
        "\n",
        "  listDipertimbangkan.append(min(penghasilan[i][3], sisa[i][1]))\n",
        "  listDipertimbangkan.append(min(penghasilan[i][3], sisa[i][3]))\n",
        "\n",
        "  listDitolak.append(min(penghasilan[i][1], sisa[i][1]))\n",
        "  listDitolak.append(min(penghasilan[i][1], sisa[i][3]))\n",
        "  listDitolak.append(min(penghasilan[i][1], sisa[i][2]))\n",
        "\n",
        "  nDiterima = numpy.max(listDiterima)\n",
        "  nDipertimbangkan = numpy.max(listDipertimbangkan)\n",
        "  nDitolak = numpy.max(listDitolak)\n",
        "\n",
        "  nInference.append([data[i][0], nDiterima, nDipertimbangkan, nDitolak])\n",
        "\n"
      ],
      "execution_count": null,
      "outputs": [
        {
          "output_type": "execute_result",
          "data": {
            "text/plain": [
              "[[1, 0, 0, 1],\n",
              " [2, 0.33000000000000007, 0.5583333333333332, 0],\n",
              " [3, 0, 0, 0.6933333333333328],\n",
              " [4, 0.5383333333333334, 0, 0],\n",
              " [5, 0, 0, 1],\n",
              " [6, 0, 0.7474999999999998, 0.1899999999999995],\n",
              " [7, 0.6716666666666665, 0, 0],\n",
              " [8, 0, 0, 1],\n",
              " [9, 0, 0, 0.8166666666666664],\n",
              " [10, 0, 0, 1],\n",
              " [11, 0.844, 0, 0],\n",
              " [12, 0, 0.9233333333333338, 0],\n",
              " [13, 0.89, 0, 0],\n",
              " [14, 0, 1, 0],\n",
              " [15, 0, 0, 1],\n",
              " [16, 0.1299999999999996, 0.6525000000000003, 0],\n",
              " [17, 0, 0, 0.726666666666666],\n",
              " [18, 0, 0.8599999999999994, 0.5700000000000003],\n",
              " [19, 0.00799999999999983, 0.8266666666666668, 0],\n",
              " [20, 0, 0, 1],\n",
              " [21, 0, 1.0, 0.28999999999999915],\n",
              " [22, 0, 0, 1],\n",
              " [23, 0, 1.0, 0],\n",
              " [24, 0, 0, 1],\n",
              " [25, 0.704, 0, 0],\n",
              " [26, 0, 1, 0],\n",
              " [27, 0, 0, 0.9750000000000001],\n",
              " [28, 0, 0, 1],\n",
              " [29, 0, 0, 0.5924999999999994],\n",
              " [30, 0, 0, 1],\n",
              " [31, 0, 0, 1],\n",
              " [32, 0, 0, 0.815],\n",
              " [33, 0.594, 0, 0],\n",
              " [34, 0, 0, 1],\n",
              " [35, 0, 0, 1],\n",
              " [36, 0, 0.7600000000000001, 0],\n",
              " [37, 0, 1, 0],\n",
              " [38, 0.8233333333333333, 0, 0],\n",
              " [39, 0.3960000000000001, 0.5033333333333333, 0],\n",
              " [40, 0, 0, 0.8199999999999997],\n",
              " [41, 1, 0, 0],\n",
              " [42, 0, 0.9075000000000002, 0],\n",
              " [43, 0, 1, 0],\n",
              " [44, 0, 0, 0.6725000000000003],\n",
              " [45, 0, 0, 0.6274999999999995],\n",
              " [46, 0.7633333333333333, 0, 0],\n",
              " [47, 0.7716666666666668, 0, 0],\n",
              " [48, 0.1960000000000001, 0.6699999999999999, 0],\n",
              " [49, 0.7533333333333333, 0, 0],\n",
              " [50, 0.7183333333333334, 0, 0],\n",
              " [51, 0, 0.46000000000000085, 0.7699999999999996],\n",
              " [52, 0.6833333333333332, 0, 0],\n",
              " [53, 0, 0.6100000000000001, 0],\n",
              " [54, 0, 0, 0.7899999999999996],\n",
              " [55, 0, 0, 0.6166666666666671],\n",
              " [56, 0, 1, 0],\n",
              " [57, 0, 0, 0.7175000000000002],\n",
              " [58, 0, 0, 0.8075000000000001],\n",
              " [59, 0.36000000000000015, 0.5333333333333332, 0],\n",
              " [60, 0.13599999999999995, 0.7200000000000001, 0],\n",
              " [61, 0.14800000000000005, 0.71, 0],\n",
              " [62, 0.0033333333333332624, 0.7475, 0],\n",
              " [63, 0.7149999999999999, 0.009999999999999787, 0],\n",
              " [64, 0, 0, 0.8200000000000003],\n",
              " [65, 0.07000000000000028, 0.6974999999999998, 0],\n",
              " [66, 0.7716666666666668, 0, 0],\n",
              " [67, 0, 0.8099999999999999, 0],\n",
              " [68, 0, 1.0, 0],\n",
              " [69, 0.8099999999999999, 0, 0],\n",
              " [70, 0, 0, 1],\n",
              " [71, 0, 0.5899999999999999, 0],\n",
              " [72, 0.05799999999999983, 0.7850000000000001, 0],\n",
              " [73, 0, 0.4800000000000004, 0.6749999999999998],\n",
              " [74, 0.2960000000000001, 0.5866666666666666, 0],\n",
              " [75, 0.982, 0, 0],\n",
              " [76, 0, 1, 0],\n",
              " [77, 0, 0, 0.7024999999999997],\n",
              " [78, 0, 0.10000000000000142, 0.8549999999999995],\n",
              " [79, 0.5866666666666666, 0, 0],\n",
              " [80, 0, 0.16000000000000014, 0.9024999999999999],\n",
              " [81, 0.6966666666666667, 0, 0],\n",
              " [82, 0, 0, 0.6533333333333337],\n",
              " [83, 0, 0, 0.5866666666666672],\n",
              " [84, 0, 0.9133333333333334, 0],\n",
              " [85, 0, 0.7833333333333332, 0],\n",
              " [86, 0, 0.9666666666666668, 0],\n",
              " [87, 0, 0, 1],\n",
              " [88, 0, 0, 0.8074999999999997],\n",
              " [89, 0, 0.6133333333333333, 0.4399999999999995],\n",
              " [90, 0, 0, 1],\n",
              " [91, 0, 0.8174999999999999, 0.5800000000000001],\n",
              " [92, 0, 0, 1],\n",
              " [93, 0.10599999999999987, 0.7450000000000001, 0],\n",
              " [94, 0.6783333333333333, 0, 0],\n",
              " [95, 0, 0, 1],\n",
              " [96, 0, 0, 0.5774999999999997],\n",
              " [97, 0, 0, 1],\n",
              " [98, 0, 1, 0],\n",
              " [99, 0.805, 0, 0],\n",
              " [100, 0.43200000000000005, 0.47333333333333333, 0]]"
            ]
          },
          "metadata": {
            "tags": []
          },
          "execution_count": 9
        }
      ]
    },
    {
      "cell_type": "markdown",
      "metadata": {
        "id": "tRKXnTyFhvnB"
      },
      "source": [
        "# Defuzzifikasi"
      ]
    },
    {
      "cell_type": "code",
      "metadata": {
        "id": "6UDdgYT8ltCu"
      },
      "source": [
        "nKelayakan = []\n",
        "\n",
        "for i in range(len(data)):\n",
        "  nKelayakan.append([data[i][0], ( (nInference[i][1]*80) + (nInference[i][2]*50) + (nInference[i][3]*40)) / (nInference[i][1] + nInference[i][2] + nInference[i][3])])"
      ],
      "execution_count": null,
      "outputs": []
    },
    {
      "cell_type": "markdown",
      "metadata": {
        "id": "xTpw8L1lorb6"
      },
      "source": [
        "# MAIN PROGRAM"
      ]
    },
    {
      "cell_type": "code",
      "metadata": {
        "id": "pSV25unYi-R1",
        "colab": {
          "base_uri": "https://localhost:8080/"
        },
        "outputId": "85496c28-9585-4e35-8d17-4c966eabcd5f"
      },
      "source": [
        "def sorting(val):\n",
        "  return val[1]\n",
        "\n",
        "nKelayakan.sort(key = sorting, reverse = True)\n",
        "\n",
        "id = []\n",
        "persentase = []\n",
        "\n",
        "for i in range(20):\n",
        "  id.append(nKelayakan[i][0])\n",
        "  persentase.append(nKelayakan[i][1])\n",
        "\n",
        "print('20 orang yang terpilih adalah : ', id)\n",
        "print()\n",
        "print('Dengan Nilai : ', persentase)"
      ],
      "execution_count": null,
      "outputs": [
        {
          "output_type": "stream",
          "text": [
            "20 orang yang terpilih adalah :  [4, 7, 11, 13, 25, 33, 38, 41, 46, 47, 49, 50, 52, 66, 69, 75, 79, 81, 94, 99]\n",
            "\n",
            "Dengan Nilai :  [80.0, 80.0, 80.0, 80.0, 80.0, 80.0, 80.0, 80.0, 80.0, 80.0, 80.0, 80.0, 80.0, 80.0, 80.0, 80.0, 80.0, 80.0, 80.0, 80.0]\n"
          ],
          "name": "stdout"
        }
      ]
    },
    {
      "cell_type": "markdown",
      "metadata": {
        "id": "riXBiJicq83O"
      },
      "source": [
        "# FILE Bantuan.xlsx"
      ]
    },
    {
      "cell_type": "code",
      "metadata": {
        "id": "wid72jeko-AM",
        "colab": {
          "base_uri": "https://localhost:8080/",
          "height": 17
        },
        "outputId": "5eb970ed-53a9-4639-db59-f9be56ea8b1b"
      },
      "source": [
        "hasil = pandas.DataFrame(numpy.asarray(id), columns=['id'])\n",
        "hasil.to_excel(\"Bantuan.xlsx\", index=False)\n",
        "files.download('Bantuan.xlsx')"
      ],
      "execution_count": null,
      "outputs": [
        {
          "output_type": "display_data",
          "data": {
            "application/javascript": [
              "\n",
              "    async function download(id, filename, size) {\n",
              "      if (!google.colab.kernel.accessAllowed) {\n",
              "        return;\n",
              "      }\n",
              "      const div = document.createElement('div');\n",
              "      const label = document.createElement('label');\n",
              "      label.textContent = `Downloading \"${filename}\": `;\n",
              "      div.appendChild(label);\n",
              "      const progress = document.createElement('progress');\n",
              "      progress.max = size;\n",
              "      div.appendChild(progress);\n",
              "      document.body.appendChild(div);\n",
              "\n",
              "      const buffers = [];\n",
              "      let downloaded = 0;\n",
              "\n",
              "      const channel = await google.colab.kernel.comms.open(id);\n",
              "      // Send a message to notify the kernel that we're ready.\n",
              "      channel.send({})\n",
              "\n",
              "      for await (const message of channel.messages) {\n",
              "        // Send a message to notify the kernel that we're ready.\n",
              "        channel.send({})\n",
              "        if (message.buffers) {\n",
              "          for (const buffer of message.buffers) {\n",
              "            buffers.push(buffer);\n",
              "            downloaded += buffer.byteLength;\n",
              "            progress.value = downloaded;\n",
              "          }\n",
              "        }\n",
              "      }\n",
              "      const blob = new Blob(buffers, {type: 'application/binary'});\n",
              "      const a = document.createElement('a');\n",
              "      a.href = window.URL.createObjectURL(blob);\n",
              "      a.download = filename;\n",
              "      div.appendChild(a);\n",
              "      a.click();\n",
              "      div.remove();\n",
              "    }\n",
              "  "
            ],
            "text/plain": [
              "<IPython.core.display.Javascript object>"
            ]
          },
          "metadata": {
            "tags": []
          }
        },
        {
          "output_type": "display_data",
          "data": {
            "application/javascript": [
              "download(\"download_6975724e-89f0-4029-80ba-923553bb1787\", \"Bantuan.xlsx\", 5093)"
            ],
            "text/plain": [
              "<IPython.core.display.Javascript object>"
            ]
          },
          "metadata": {
            "tags": []
          }
        }
      ]
    }
  ]
}